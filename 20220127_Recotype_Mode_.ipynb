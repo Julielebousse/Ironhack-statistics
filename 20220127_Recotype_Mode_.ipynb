{
  "nbformat": 4,
  "nbformat_minor": 0,
  "metadata": {
    "colab": {
      "name": "20220127 - Recotype Mode .ipynb",
      "provenance": [],
      "collapsed_sections": [],
      "include_colab_link": true
    },
    "kernelspec": {
      "name": "python3",
      "display_name": "Python 3"
    },
    "language_info": {
      "name": "python"
    }
  },
  "cells": [
    {
      "cell_type": "markdown",
      "metadata": {
        "id": "view-in-github",
        "colab_type": "text"
      },
      "source": [
        "<a href=\"https://colab.research.google.com/github/Julielebousse/Ironhack-statistics/blob/main/20220127_Recotype_Mode_.ipynb\" target=\"_parent\"><img src=\"https://colab.research.google.com/assets/colab-badge.svg\" alt=\"Open In Colab\"/></a>"
      ]
    },
    {
      "cell_type": "code",
      "execution_count": null,
      "metadata": {
        "colab": {
          "resources": {
            "http://localhost:8080/nbextensions/google.colab/files.js": {
              "data": "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",
              "ok": true,
              "headers": [
                [
                  "content-type",
                  "application/javascript"
                ]
              ],
              "status": 200,
              "status_text": ""
            }
          },
          "base_uri": "https://localhost:8080/",
          "height": 110
        },
        "id": "2sjkJbNjFa2U",
        "outputId": "eed86583-c390-4983-f1cf-69ea74d23ecc"
      },
      "outputs": [
        {
          "output_type": "display_data",
          "data": {
            "text/html": [
              "\n",
              "     <input type=\"file\" id=\"files-5583961a-d8e7-478e-a86e-69bb2988e77c\" name=\"files[]\" multiple disabled\n",
              "        style=\"border:none\" />\n",
              "     <output id=\"result-5583961a-d8e7-478e-a86e-69bb2988e77c\">\n",
              "      Upload widget is only available when the cell has been executed in the\n",
              "      current browser session. Please rerun this cell to enable.\n",
              "      </output>\n",
              "      <script src=\"/nbextensions/google.colab/files.js\"></script> "
            ],
            "text/plain": [
              "<IPython.core.display.HTML object>"
            ]
          },
          "metadata": {}
        },
        {
          "output_type": "stream",
          "name": "stdout",
          "text": [
            "Saving 20220127 - BeOp Aufeminin.xlsx to 20220127 - BeOp Aufeminin.xlsx\n",
            "Saving 20220127 - BeOp LesNums.xlsx to 20220127 - BeOp LesNums.xlsx\n"
          ]
        }
      ],
      "source": [
        "from google.colab import files\n",
        "uploaded = files.upload()"
      ]
    },
    {
      "cell_type": "code",
      "source": [
        "import pandas as pd\n",
        "import numpy as np\n",
        "# importation des fichiers\n",
        "fichier_1 = pd.read_excel(\"20220127 - BeOp Aufeminin.xlsx\")\n",
        "fichier_2 = pd.read_excel(\"20220127 - BeOp LesNums.xlsx\")\n",
        "df = pd.concat([fichier_1, fichier_2], ignore_index=True)\n",
        "df = df.fillna(0)\n",
        "df.head()\n",
        "df.columns"
      ],
      "metadata": {
        "colab": {
          "base_uri": "https://localhost:8080/"
        },
        "id": "2VNybdWOGAT4",
        "outputId": "41462fea-b12b-49be-8524-9f44ba3a6bd7"
      },
      "execution_count": null,
      "outputs": [
        {
          "output_type": "execute_result",
          "data": {
            "text/plain": [
              "Index(['MODE_GDISTRIB', 'MODE_LUXE', 'MODE_2ND_MAIN', 'MODE_ENGA',\n",
              "       'MOTIV_2ND_OTHER', 'MOTIV_2ND_MIEUX_CONS', 'MOTIV_2ND_SOUTIEN',\n",
              "       'MOTIV_2ND_STYLE', 'MOTIV_2ND_ECO', 'MOTIV_ENG_OTHER', 'MOTIV_ENG_MIF',\n",
              "       'MOTIV_ENG_VALUES', 'MOTIV_ENG_MAT', 'ACHAT_BOTH', 'ACHAT_MAG',\n",
              "       'ACHAT_INT', 'FREQ_1MOIS', 'FREQ_2A3MOIS', 'FREQ_3MOIS',\n",
              "       'HABITS_COV_OUI', 'HABITS_COV_NON', 'GENRE_NSP', 'GENRE_F', 'GENRE_H',\n",
              "       'AGE_35_49', 'AGE_50_64', 'AGE_25_34', 'AGE_18_M', 'AGE_18_24',\n",
              "       'AGE_65_P'],\n",
              "      dtype='object')"
            ]
          },
          "metadata": {},
          "execution_count": 2
        }
      ]
    },
    {
      "cell_type": "code",
      "source": [
        "df['MODE_AGG'] = pd.Series(np.zeros(df.shape[0]))\n",
        "df.loc[(df['MODE_GDISTRIB'] == 1, 'MODE_AGG')] = \"Le prêt à porter\"\n",
        "df.loc[(df['MODE_LUXE'] == 1, 'MODE_AGG')] = \"Le luxe\"\n",
        "df.loc[(df['MODE_2ND_MAIN'] == 1, 'MODE_AGG')] = \"La seconde main\"\n",
        "df.loc[(df['MODE_ENGA'] == 1, 'MODE_AGG')] = \"Les marques engagées\"\n",
        "df.MODE_AGG.value_counts()"
      ],
      "metadata": {
        "colab": {
          "base_uri": "https://localhost:8080/"
        },
        "id": "4Yx7wTUdGfmz",
        "outputId": "769cd574-fbc1-4275-ebee-83d4fb53e38c"
      },
      "execution_count": null,
      "outputs": [
        {
          "output_type": "execute_result",
          "data": {
            "text/plain": [
              "Le prêt à porter        247\n",
              "La seconde main         174\n",
              "Les marques engagées     82\n",
              "Le luxe                  76\n",
              "0.0                       2\n",
              "Name: MODE_AGG, dtype: int64"
            ]
          },
          "metadata": {},
          "execution_count": 3
        }
      ]
    },
    {
      "cell_type": "code",
      "source": [
        "df['MOTIV_2ND_AGG'] = pd.Series(np.zeros(df.shape[0]))\n",
        "df.loc[(df['MOTIV_2ND_OTHER'] == 1) | (df['MOTIV_2ND_MIEUX_CONS'] == 1) | (df['MOTIV_2ND_SOUTIEN'] == 1) |  (df['MOTIV_2ND_STYLE'] == 1) |  (df['MOTIV_2ND_ECO'] == 1)   , 'MOTIV_2ND_AGG'] = \"A répondu\"\n",
        "df['MOTIV_2ND_AGG'].value_counts()"
      ],
      "metadata": {
        "colab": {
          "base_uri": "https://localhost:8080/"
        },
        "id": "r4M2DpdHH5f2",
        "outputId": "84e94fd4-5e6a-4470-8b3f-df960a623853"
      },
      "execution_count": null,
      "outputs": [
        {
          "output_type": "execute_result",
          "data": {
            "text/plain": [
              "0.0          465\n",
              "A répondu    116\n",
              "Name: MOTIV_2ND_AGG, dtype: int64"
            ]
          },
          "metadata": {},
          "execution_count": 4
        }
      ]
    },
    {
      "cell_type": "code",
      "source": [
        "df['MOTIV_ENG_AGG'] = pd.Series(np.zeros(df.shape[0]))\n",
        "df.loc[(df['MOTIV_ENG_OTHER'] == 1) | (df['MOTIV_ENG_MIF'] == 1) | (df['MOTIV_ENG_VALUES'] == 1) |  (df['MOTIV_ENG_MAT'] == 1)   , 'MOTIV_ENG_AGG'] = \"A répondu\"\n",
        "df['MOTIV_ENG_AGG'].value_counts()"
      ],
      "metadata": {
        "colab": {
          "base_uri": "https://localhost:8080/"
        },
        "id": "Lt4jWZy1JPL3",
        "outputId": "b137e39d-4193-445c-ec4d-5b5821066294"
      },
      "execution_count": null,
      "outputs": [
        {
          "output_type": "execute_result",
          "data": {
            "text/plain": [
              "0.0          530\n",
              "A répondu     51\n",
              "Name: MOTIV_ENG_AGG, dtype: int64"
            ]
          },
          "metadata": {},
          "execution_count": 5
        }
      ]
    },
    {
      "cell_type": "code",
      "source": [
        "df['ACHAT_AGG'] = pd.Series(np.zeros(df.shape[0]))\n",
        "df.loc[(df['ACHAT_BOTH'] == 1, 'ACHAT_AGG')] = \"Les deux !\"\n",
        "df.loc[(df['ACHAT_MAG'] == 1, 'ACHAT_AGG')] = \"En magasin\"\n",
        "df.loc[(df['ACHAT_INT'] == 1, 'ACHAT_AGG')] = \"Sur Internet\"\n",
        "df.ACHAT_AGG.value_counts()"
      ],
      "metadata": {
        "colab": {
          "base_uri": "https://localhost:8080/"
        },
        "id": "05XTkxSqKGJW",
        "outputId": "1577ddb0-d31f-499c-c135-e140b6085770"
      },
      "execution_count": null,
      "outputs": [
        {
          "output_type": "execute_result",
          "data": {
            "text/plain": [
              "Les deux !      170\n",
              "En magasin      156\n",
              "0.0             139\n",
              "Sur Internet    116\n",
              "Name: ACHAT_AGG, dtype: int64"
            ]
          },
          "metadata": {},
          "execution_count": 6
        }
      ]
    },
    {
      "cell_type": "code",
      "source": [
        "df['FREQ_AGG'] = pd.Series(np.zeros(df.shape[0]))\n",
        "df.loc[(df['FREQ_1MOIS'] == 1, 'FREQ_AGG')] = \"Une / Plusieurs fois par mois\"\n",
        "df.loc[(df['FREQ_2A3MOIS'] == 1, 'FREQ_AGG')] = \"Tous les 2 à 3 mois\"\n",
        "df.loc[(df['FREQ_3MOIS'] == 1, 'FREQ_AGG')] = \"Moins d’une fois tous les 3 mois\"\n",
        "df.FREQ_AGG.value_counts()"
      ],
      "metadata": {
        "colab": {
          "base_uri": "https://localhost:8080/"
        },
        "id": "WrT2LIQ7K9Na",
        "outputId": "57911403-4663-4d32-bc3a-76ef4e2759bf"
      },
      "execution_count": null,
      "outputs": [
        {
          "output_type": "execute_result",
          "data": {
            "text/plain": [
              "0.0                                 167\n",
              "Tous les 2 à 3 mois                 142\n",
              "Une / Plusieurs fois par mois       138\n",
              "Moins d’une fois tous les 3 mois    134\n",
              "Name: FREQ_AGG, dtype: int64"
            ]
          },
          "metadata": {},
          "execution_count": 7
        }
      ]
    },
    {
      "cell_type": "code",
      "source": [
        "df['HABITS_AGG'] = pd.Series(np.zeros(df.shape[0]))\n",
        "df.loc[(df['HABITS_COV_OUI'] == 1, 'HABITS_AGG')] = \"Oui\"\n",
        "df.loc[(df['HABITS_COV_NON'] == 1, 'HABITS_AGG')] = \"Non\"\n",
        "df.HABITS_AGG.value_counts()"
      ],
      "metadata": {
        "colab": {
          "base_uri": "https://localhost:8080/"
        },
        "id": "daP2Z4DHM2NW",
        "outputId": "4bbebc2b-1fb2-490b-cf2c-ac5e97183ffa"
      },
      "execution_count": null,
      "outputs": [
        {
          "output_type": "execute_result",
          "data": {
            "text/plain": [
              "Non    220\n",
              "Oui    181\n",
              "0.0    180\n",
              "Name: HABITS_AGG, dtype: int64"
            ]
          },
          "metadata": {},
          "execution_count": 8
        }
      ]
    },
    {
      "cell_type": "code",
      "source": [
        "df['GENRE_AGG'] = pd.Series(np.zeros(df.shape[0]))\n",
        "df.loc[(df['GENRE_H'] == 1, 'GENRE_AGG')] = \"Homme\"\n",
        "df.loc[(df['GENRE_NSP'] == 1, 'GENRE_AGG')] = \"NSP\"\n",
        "df.loc[(df['GENRE_F'] == 1, 'GENRE_AGG')] = \"Femme\"\n",
        "df.GENRE_AGG.value_counts()"
      ],
      "metadata": {
        "colab": {
          "base_uri": "https://localhost:8080/"
        },
        "id": "y0GNLxfgNe66",
        "outputId": "b7735b9c-9715-440e-c213-c16cc64e6500"
      },
      "execution_count": null,
      "outputs": [
        {
          "output_type": "execute_result",
          "data": {
            "text/plain": [
              "Femme    261\n",
              "0.0      184\n",
              "Homme    114\n",
              "NSP       22\n",
              "Name: GENRE_AGG, dtype: int64"
            ]
          },
          "metadata": {},
          "execution_count": 9
        }
      ]
    },
    {
      "cell_type": "code",
      "source": [
        "df['AGE_AGG'] = pd.Series(np.zeros(df.shape[0]))\n",
        "df.loc[(df['AGE_25_34'] == 1, 'AGE_AGG')] = \"3. 25-34 ans\"\n",
        "df.loc[(df['AGE_65_P'] == 1, 'AGE_AGG')] = \"6. 65+ ans\"\n",
        "df.loc[(df['AGE_35_49'] == 1, 'AGE_AGG')] = \"4. 35-49 ans\"\n",
        "df.loc[(df['AGE_18_24'] == 1, 'AGE_AGG')] = \"2. 18-24 ans\"\n",
        "df.loc[(df['AGE_50_64'] == 1, 'AGE_AGG')] = \"5. 50-64 ans\"\n",
        "df.loc[(df['AGE_18_M'] == 1, 'AGE_AGG')] = \"1. 18- ans\"\n",
        "df.AGE_AGG.value_counts()"
      ],
      "metadata": {
        "colab": {
          "base_uri": "https://localhost:8080/"
        },
        "id": "cYbgFIRLNoQZ",
        "outputId": "d7f68f4c-3128-4a20-ec7f-4b6e962efa60"
      },
      "execution_count": null,
      "outputs": [
        {
          "output_type": "execute_result",
          "data": {
            "text/plain": [
              "0.0             190\n",
              "4. 35-49 ans    109\n",
              "3. 25-34 ans     66\n",
              "5. 50-64 ans     66\n",
              "1. 18- ans       65\n",
              "2. 18-24 ans     58\n",
              "6. 65+ ans       27\n",
              "Name: AGE_AGG, dtype: int64"
            ]
          },
          "metadata": {},
          "execution_count": 10
        }
      ]
    },
    {
      "cell_type": "code",
      "source": [
        "df.columns"
      ],
      "metadata": {
        "colab": {
          "base_uri": "https://localhost:8080/"
        },
        "id": "2QlxEsvANxP2",
        "outputId": "15947e43-7f98-4f24-bdf7-edf76a12fc74"
      },
      "execution_count": null,
      "outputs": [
        {
          "output_type": "execute_result",
          "data": {
            "text/plain": [
              "Index(['MODE_GDISTRIB', 'MODE_LUXE', 'MODE_2ND_MAIN', 'MODE_ENGA',\n",
              "       'MOTIV_2ND_OTHER', 'MOTIV_2ND_MIEUX_CONS', 'MOTIV_2ND_SOUTIEN',\n",
              "       'MOTIV_2ND_STYLE', 'MOTIV_2ND_ECO', 'MOTIV_ENG_OTHER', 'MOTIV_ENG_MIF',\n",
              "       'MOTIV_ENG_VALUES', 'MOTIV_ENG_MAT', 'ACHAT_BOTH', 'ACHAT_MAG',\n",
              "       'ACHAT_INT', 'FREQ_1MOIS', 'FREQ_2A3MOIS', 'FREQ_3MOIS',\n",
              "       'HABITS_COV_OUI', 'HABITS_COV_NON', 'GENRE_NSP', 'GENRE_F', 'GENRE_H',\n",
              "       'AGE_35_49', 'AGE_50_64', 'AGE_25_34', 'AGE_18_M', 'AGE_18_24',\n",
              "       'AGE_65_P', 'MODE_AGG', 'MOTIV_2ND_AGG', 'MOTIV_ENG_AGG', 'ACHAT_AGG',\n",
              "       'FREQ_AGG', 'HABITS_AGG', 'GENRE_AGG', 'AGE_AGG'],\n",
              "      dtype='object')"
            ]
          },
          "metadata": {},
          "execution_count": 11
        }
      ]
    },
    {
      "cell_type": "code",
      "source": [
        "dftest = df.copy()\n",
        "dftest = dftest[dftest.GENRE_AGG.isin(['Femme'])]\n",
        "\n",
        "\n",
        "dfsortie = pd.DataFrame()\n",
        "\n",
        "liste = ('MOTIV_2ND_OTHER', 'MOTIV_2ND_MIEUX_CONS', 'MOTIV_2ND_SOUTIEN','MOTIV_2ND_STYLE', 'MOTIV_2ND_ECO',\n",
        "         'MOTIV_ENG_OTHER', 'MOTIV_ENG_MIF', 'MOTIV_ENG_VALUES', 'MOTIV_ENG_MAT',\n",
        "         'MODE_AGG', 'FREQ_AGG', 'MOTIV_2ND_AGG', 'MOTIV_ENG_AGG', 'ACHAT_AGG', 'HABITS_AGG', 'GENRE_AGG','AGE_AGG')\n",
        "for col in liste:\n",
        "    dftest[col] = dftest[col].astype(str)\n",
        "    dftest[col] = col + '_' + dftest[col]\n",
        "    test = dftest[col].value_counts(ascending = True).to_frame(name = 'Value')\n",
        "    dfsortie = pd.concat([dfsortie, test])\n",
        "\n",
        "print(dfsortie)"
      ],
      "metadata": {
        "colab": {
          "base_uri": "https://localhost:8080/"
        },
        "id": "LgVxvZOvOYte",
        "outputId": "bbda1bcb-922a-40a7-c91b-bd4befd74e44"
      },
      "execution_count": null,
      "outputs": [
        {
          "output_type": "stream",
          "name": "stdout",
          "text": [
            "                                           Value\n",
            "MOTIV_2ND_OTHER_1.0                           18\n",
            "MOTIV_2ND_OTHER_0.0                          243\n",
            "MOTIV_2ND_MIEUX_CONS_1.0                      37\n",
            "MOTIV_2ND_MIEUX_CONS_0.0                     224\n",
            "MOTIV_2ND_SOUTIEN_1.0                         22\n",
            "MOTIV_2ND_SOUTIEN_0.0                        239\n",
            "MOTIV_2ND_STYLE_1.0                           28\n",
            "MOTIV_2ND_STYLE_0.0                          233\n",
            "MOTIV_2ND_ECO_1.0                             52\n",
            "MOTIV_2ND_ECO_0.0                            209\n",
            "MOTIV_ENG_OTHER_1.0                           10\n",
            "MOTIV_ENG_OTHER_0.0                          251\n",
            "MOTIV_ENG_MIF_1.0                             19\n",
            "MOTIV_ENG_MIF_0.0                            242\n",
            "MOTIV_ENG_VALUES_1.0                          14\n",
            "MOTIV_ENG_VALUES_0.0                         247\n",
            "MOTIV_ENG_MAT_1.0                             19\n",
            "MOTIV_ENG_MAT_0.0                            242\n",
            "MODE_AGG_0.0                                   2\n",
            "MODE_AGG_Le luxe                              25\n",
            "MODE_AGG_Les marques engagées                 30\n",
            "MODE_AGG_La seconde main                      68\n",
            "MODE_AGG_Le prêt à porter                    136\n",
            "FREQ_AGG_0.0                                   1\n",
            "FREQ_AGG_Moins d’une fois tous les 3 mois     71\n",
            "FREQ_AGG_Tous les 2 à 3 mois                  84\n",
            "FREQ_AGG_Une / Plusieurs fois par mois       105\n",
            "MOTIV_2ND_AGG_A répondu                       68\n",
            "MOTIV_2ND_AGG_0.0                            193\n",
            "MOTIV_ENG_AGG_A répondu                       30\n",
            "MOTIV_ENG_AGG_0.0                            231\n",
            "ACHAT_AGG_0.0                                  1\n",
            "ACHAT_AGG_Sur Internet                        67\n",
            "ACHAT_AGG_En magasin                          96\n",
            "ACHAT_AGG_Les deux !                          97\n",
            "HABITS_AGG_Non                               125\n",
            "HABITS_AGG_Oui                               136\n",
            "GENRE_AGG_Femme                              261\n",
            "AGE_AGG_0.0                                    5\n",
            "AGE_AGG_6. 65+ ans                            17\n",
            "AGE_AGG_2. 18-24 ans                          41\n",
            "AGE_AGG_3. 25-34 ans                          41\n",
            "AGE_AGG_5. 50-64 ans                          42\n",
            "AGE_AGG_1. 18- ans                            55\n",
            "AGE_AGG_4. 35-49 ans                          60\n"
          ]
        }
      ]
    },
    {
      "cell_type": "code",
      "source": [
        "from google.colab import drive\n",
        "drive.mount('/drive')\n",
        "dfsortie.to_csv('/drive/My Drive/Colab Notebooks/Planning Stratégique/export_femmes.csv')"
      ],
      "metadata": {
        "colab": {
          "base_uri": "https://localhost:8080/"
        },
        "id": "wgpx7HgPQ-ds",
        "outputId": "ea79779b-cba1-4ec1-a614-c22b3d0b0aa7"
      },
      "execution_count": null,
      "outputs": [
        {
          "output_type": "stream",
          "name": "stdout",
          "text": [
            "Mounted at /drive\n"
          ]
        }
      ]
    },
    {
      "cell_type": "code",
      "source": [
        "df['GENRE_AGG_V2'] = pd.Series(np.zeros(df.shape[0]))\n",
        "df.loc[(df.AGE_AGG.isin(['1. 18- ans', \"2. 18-24 ans\", \"3. 25-34 ans\"]),  'AGE_AGG_V2')] = \"Moins de 35 ans\"\n",
        "df.loc[(df.AGE_AGG.isin([\"5. 50-64 ans\",'6. 65+ ans', \"4. 35-49 ans\"]),  'AGE_AGG_V2')] = \"35 ans et plus\"\n",
        "df.loc[(df.AGE_AGG.isin([\"NSP\", \"\"]),  'AGE_AGG_V2')] = \"Autre\"\n",
        "df['AGE_AGG_V2'].value_counts()\n",
        "df_khi2 = df.loc[(df['AGE_AGG_V2'].isin(['Moins de 35 ans','35 ans et plus'])), ['AGE_AGG_V2', 'MOTIV_ENG_MAT']]\n",
        "\n",
        "tab_khi2 = pd.crosstab(df_khi2.AGE_AGG_V2, df_khi2.MOTIV_ENG_MAT)\n",
        "from scipy.stats import chi2_contingency\n",
        "stat, p, dof, expected = chi2_contingency(tab_khi2)\n",
        "\n",
        "print(tab_khi2)\n",
        "print(p)"
      ],
      "metadata": {
        "id": "8dtgRoq-TUPq",
        "colab": {
          "base_uri": "https://localhost:8080/"
        },
        "outputId": "6243c613-8af5-4597-fc78-e2bdaf495090"
      },
      "execution_count": null,
      "outputs": [
        {
          "output_type": "stream",
          "name": "stdout",
          "text": [
            "MOTIV_ENG_MAT    0.0  1.0\n",
            "AGE_AGG_V2               \n",
            "35 ans et plus   187   15\n",
            "Moins de 35 ans  177   12\n",
            "0.8258814862192554\n"
          ]
        }
      ]
    },
    {
      "cell_type": "code",
      "source": [
        ""
      ],
      "metadata": {
        "id": "p-6ApKwA9NIQ"
      },
      "execution_count": null,
      "outputs": []
    }
  ]
}